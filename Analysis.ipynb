{
 "cells": [
  {
   "cell_type": "code",
   "execution_count": 1,
   "id": "9dee7d17-fb50-4377-a47e-723dccd14b26",
   "metadata": {},
   "outputs": [],
   "source": [
    "#Import libraries and read downloaded csv into a dataframe\n",
    "\n",
    "import pandas as pd\n",
    "import numpy as np\n",
    "import plotly.express as px\n",
    "from sklearn.linear_model import LogisticRegression\n",
    "from sklearn.model_selection import train_test_split\n",
    "from sklearn.preprocessing import StandardScaler\n",
    "from sklearn.metrics import confusion_matrix, classification_report, roc_curve, roc_auc_score, accuracy_score\n",
    "import matplotlib.pyplot as plt\n",
    "\n",
    "file_name = \"heartattackdataprocessed.csv\"\n",
    "clean_df = pd.read_csv(f\"data/{file_name}\")"
   ]
  },
  {
   "cell_type": "markdown",
   "id": "e64f2a34-0b4a-470e-9dbb-41df27bfe40d",
   "metadata": {},
   "source": [
    "Organise data - we will keep all variables included for now"
   ]
  },
  {
   "cell_type": "code",
   "execution_count": 2,
   "id": "814a7109-ed05-4703-a0c5-4602f21a29e7",
   "metadata": {},
   "outputs": [
    {
     "data": {
      "text/plain": [
       "1    0.604777\n",
       "0    0.395223\n",
       "Name: Result, dtype: float64"
      ]
     },
     "execution_count": 2,
     "metadata": {},
     "output_type": "execute_result"
    }
   ],
   "source": [
    "# Dependent variable data\n",
    "y_data = clean_df['Result']\n",
    "\n",
    "# Independent variables data - start with all options\n",
    "X_data = clean_df[['Age','Gender','Heart rate','Systolic blood pressure', 'Diastolic blood pressure', 'Blood sugar', 'CK-MB', 'Troponin']] \n",
    "\n",
    "# Break the current dataset into train and test datasets\n",
    "X_train, X_test, y_train, y_test = train_test_split(X_data, y_data, shuffle=True, train_size=0.7, random_state=10) \n",
    "\n",
    "# Check the class balance\n",
    "y_train.value_counts(normalize=True)"
   ]
  },
  {
   "cell_type": "markdown",
   "id": "032b9f7e-3ac2-41a9-9398-452e9b765fa7",
   "metadata": {},
   "source": [
    "Based on this split, the algorithm will likely lean towards positive results due to the training set bias but not to such an extent that the model will be unsuitable. We will impute this class weight into our logistic regression model so that it can account for this sway before scaling the test and training sets for our variables. Without this scaling the algorithm will likely perform poorly as the data won't look standard and normally distributed. We can then fit this data to our weighted logistic model. "
   ]
  },
  {
   "cell_type": "markdown",
   "id": "fdd9b16e-6c7b-4878-a3d1-196fda650bce",
   "metadata": {},
   "source": [
    "## ***Analysis of adjusted class weights***"
   ]
  },
  {
   "cell_type": "markdown",
   "id": "7781ad8c-015a-4aa7-baa5-7d914c7805a8",
   "metadata": {},
   "source": [
    "***Standard weighting (model 1)***"
   ]
  },
  {
   "cell_type": "code",
   "execution_count": 3,
   "id": "37a85d8c-06a6-4025-b28a-bec82d0ddc02",
   "metadata": {},
   "outputs": [
    {
     "name": "stdout",
     "output_type": "stream",
     "text": [
      "Model 1 AUC is: 0.8862605135015494\n",
      "              precision    recall  f1-score   support\n",
      "\n",
      "           0       0.61      0.91      0.73       144\n",
      "           1       0.93      0.66      0.77       251\n",
      "\n",
      "    accuracy                           0.75       395\n",
      "   macro avg       0.77      0.79      0.75       395\n",
      "weighted avg       0.81      0.75      0.76       395\n",
      "\n",
      "Training Accuracy: 0.7828447339847991\n",
      "Test Accuracy: 0.7518987341772152\n"
     ]
    }
   ],
   "source": [
    "logistic_model1 = LogisticRegression(class_weight={False: 0.6, True: 0.4})\n",
    "scale = StandardScaler()\n",
    "X_train = scale.fit_transform(X_train)\n",
    "X_test = scale.transform(X_test)\n",
    "# Fit the model to the training dataset\n",
    "logistic_model1.fit(X_train, y_train)\n",
    "\n",
    "y_pred_prob_model1 = logistic_model1.predict_proba(X_test)[:, 1]\n",
    "model1_auc = roc_auc_score(y_test, y_pred_prob_model1)\n",
    "print('Model 1 AUC is:', model1_auc)\n",
    "\n",
    "logistic_prediction1 = logistic_model1.predict(X_test)\n",
    "cm = confusion_matrix(y_test, logistic_prediction1) \n",
    "report = classification_report(y_test, logistic_prediction1)\n",
    "print(report)\n",
    "\n",
    "# Evaluate the model's performance on the training set\n",
    "y_train_pred = logistic_model1.predict(X_train)\n",
    "train_accuracy = accuracy_score(y_train, y_train_pred)\n",
    "print(\"Training Accuracy:\", train_accuracy)\n",
    "\n",
    "# Evaluate the model's performance on the test set\n",
    "y_test_pred = logistic_model1.predict(X_test)\n",
    "test_accuracy = accuracy_score(y_test, y_test_pred)\n",
    "print(\"Test Accuracy:\", test_accuracy)\n",
    "\n",
    "\n",
    "y_pred_prob_model1 = logistic_model1.predict_proba(X_test)"
   ]
  },
  {
   "cell_type": "markdown",
   "id": "72ae7956-aca7-4236-aef7-450ac8f344b3",
   "metadata": {},
   "source": [
    "Our model is very precise at for positive results but there is a very high recall for negative predictions or otherwise known as false negatives. In the context of this investigation involving a critical medical diagnosis, it is crucial to minimise false negatives, even at the cost of higher false positives. To account for this, we will begin by adjusting the weighting given to each class. First with balanced, and then with manual imputation if needed. This will train the model to place higher significance on these instances and develop better modelling for them. "
   ]
  },
  {
   "cell_type": "markdown",
   "id": "209eba1b-da43-4c2e-93cf-83f22e42b044",
   "metadata": {},
   "source": [
    "**Balanced class weighting (model 2)**"
   ]
  },
  {
   "cell_type": "code",
   "execution_count": 4,
   "id": "9632a318-ff4c-4e85-80d0-d9b45fdabad1",
   "metadata": {},
   "outputs": [
    {
     "name": "stdout",
     "output_type": "stream",
     "text": [
      "Model 2 AUC is: 0.8976316954404604\n",
      "              precision    recall  f1-score   support\n",
      "\n",
      "           0       0.62      0.95      0.75       144\n",
      "           1       0.96      0.67      0.79       251\n",
      "\n",
      "    accuracy                           0.77       395\n",
      "   macro avg       0.79      0.81      0.77       395\n",
      "weighted avg       0.84      0.77      0.78       395\n",
      "\n",
      "Training Accuracy: 0.7926167209554832\n",
      "Test Accuracy: 0.7721518987341772\n"
     ]
    }
   ],
   "source": [
    "logistic_model2 = LogisticRegression(class_weight='balanced')\n",
    "scale = StandardScaler()\n",
    "X_train = scale.fit_transform(X_train)\n",
    "X_test = scale.transform(X_test)\n",
    "logistic_model2.fit(X_train, y_train)\n",
    "\n",
    "y_pred_prob_model2 = logistic_model2.predict_proba(X_test)[:, 1]\n",
    "model2_auc = roc_auc_score(y_test, y_pred_prob_model2)\n",
    "print('Model 2 AUC is:', model2_auc)\n",
    "\n",
    "logistic_prediction2 = logistic_model2.predict(X_test)\n",
    "cm = confusion_matrix(y_test, logistic_prediction2) \n",
    "report = classification_report(y_test, logistic_prediction2)\n",
    "print(report)\n",
    "\n",
    "y_train_pred = logistic_model2.predict(X_train)\n",
    "train_accuracy = accuracy_score(y_train, y_train_pred)\n",
    "print(\"Training Accuracy:\", train_accuracy)\n",
    "y_test_pred = logistic_model2.predict(X_test)\n",
    "test_accuracy = accuracy_score(y_test, y_test_pred)\n",
    "print(\"Test Accuracy:\", test_accuracy)\n",
    "\n",
    "y_pred_prob_model2 = logistic_model2.predict_proba(X_test)"
   ]
  },
  {
   "cell_type": "markdown",
   "id": "12fdeee7-ecb1-4816-aa84-2600bddd2c68",
   "metadata": {},
   "source": [
    "There was an improvement in recall and precision across the board which is good to see, however, there was only a 0.01 improvement in positive recall. This suggests however, that we may be on the right track. We will try reduce the weighting towards false."
   ]
  },
  {
   "cell_type": "markdown",
   "id": "d8d77460-fb8d-4917-80ff-372a3fdbe9ae",
   "metadata": {},
   "source": [
    "**In favour of positive (model 3)**"
   ]
  },
  {
   "cell_type": "code",
   "execution_count": 5,
   "id": "da01c457-39f8-444a-a939-2fa1bcb28d1a",
   "metadata": {},
   "outputs": [
    {
     "name": "stdout",
     "output_type": "stream",
     "text": [
      "Model 3 AUC is: 0.8852229969012838\n",
      "              precision    recall  f1-score   support\n",
      "\n",
      "           0       0.72      0.78      0.75       144\n",
      "           1       0.87      0.82      0.84       251\n",
      "\n",
      "    accuracy                           0.81       395\n",
      "   macro avg       0.79      0.80      0.80       395\n",
      "weighted avg       0.81      0.81      0.81       395\n",
      "\n",
      "Training Accuracy: 0.7937024972855592\n",
      "Test Accuracy: 0.8075949367088607\n"
     ]
    }
   ],
   "source": [
    "logistic_model3 = LogisticRegression(class_weight={False: 0.5, True: 0.5})\n",
    "scale = StandardScaler()\n",
    "X_train = scale.fit_transform(X_train)\n",
    "X_test = scale.transform(X_test)\n",
    "logistic_model3.fit(X_train, y_train)\n",
    "\n",
    "y_pred_prob_model3 = logistic_model3.predict_proba(X_test)[:, 1]\n",
    "model3_auc = roc_auc_score(y_test, y_pred_prob_model3)\n",
    "print('Model 3 AUC is:', model3_auc)\n",
    "\n",
    "logistic_prediction3 = logistic_model3.predict(X_test)\n",
    "cm = confusion_matrix(y_test, logistic_prediction3) \n",
    "report = classification_report(y_test, logistic_prediction3)\n",
    "print(report)\n",
    "\n",
    "y_train_pred = logistic_model3.predict(X_train)\n",
    "train_accuracy = accuracy_score(y_train, y_train_pred)\n",
    "print(\"Training Accuracy:\", train_accuracy)\n",
    "y_test_pred = logistic_model3.predict(X_test)\n",
    "test_accuracy = accuracy_score(y_test, y_test_pred)\n",
    "print(\"Test Accuracy:\", test_accuracy)\n",
    "\n",
    "y_pred_prob_model3 = logistic_model3.predict_proba(X_test)"
   ]
  },
  {
   "cell_type": "markdown",
   "id": "371bd7e7-7a93-40bf-9692-836973a5c6f9",
   "metadata": {},
   "source": [
    "These figures look much better, 80% is generally considered a high level of recall but in the context of this investigation we want to increase this even further."
   ]
  },
  {
   "cell_type": "markdown",
   "id": "44d563fe-5d2e-466b-b4c2-c56729901992",
   "metadata": {},
   "source": [
    "**Further favour of positive (model 4)**"
   ]
  },
  {
   "cell_type": "code",
   "execution_count": 6,
   "id": "e9aa47e9-3fe6-45d0-8373-01c9cd904162",
   "metadata": {},
   "outputs": [
    {
     "name": "stdout",
     "output_type": "stream",
     "text": [
      "Model 4 AUC is: 0.8922504426737494\n",
      "              precision    recall  f1-score   support\n",
      "\n",
      "           0       0.80      0.62      0.70       144\n",
      "           1       0.81      0.91      0.86       251\n",
      "\n",
      "    accuracy                           0.81       395\n",
      "   macro avg       0.80      0.77      0.78       395\n",
      "weighted avg       0.80      0.81      0.80       395\n",
      "\n",
      "Training Accuracy: 0.7937024972855592\n",
      "Test Accuracy: 0.8050632911392405\n"
     ]
    }
   ],
   "source": [
    "logistic_model4 = LogisticRegression(class_weight={False: 0.7, True: 1.0})\n",
    "scale = StandardScaler()\n",
    "X_train = scale.fit_transform(X_train)\n",
    "X_test = scale.transform(X_test)\n",
    "logistic_model4.fit(X_train, y_train)\n",
    "\n",
    "y_pred_prob_model4 = logistic_model4.predict_proba(X_test)[:, 1]\n",
    "model4_auc = roc_auc_score(y_test, y_pred_prob_model4)\n",
    "print('Model 4 AUC is:', model4_auc)\n",
    "\n",
    "logistic_prediction4 = logistic_model4.predict(X_test)\n",
    "cm = confusion_matrix(y_test, logistic_prediction4) \n",
    "report = classification_report(y_test, logistic_prediction4)\n",
    "print(report)\n",
    "\n",
    "y_train_pred = logistic_model4.predict(X_train)\n",
    "train_accuracy = accuracy_score(y_train, y_train_pred)\n",
    "print(\"Training Accuracy:\", train_accuracy)\n",
    "y_test_pred = logistic_model4.predict(X_test)\n",
    "test_accuracy = accuracy_score(y_test, y_test_pred)\n",
    "print(\"Test Accuracy:\", test_accuracy)\n",
    "\n",
    "y_pred_prob_model4 = logistic_model4.predict_proba(X_test)"
   ]
  },
  {
   "cell_type": "markdown",
   "id": "3c44b595-39d5-4f86-a724-8dbb2fb9ecaf",
   "metadata": {},
   "source": [
    "We have seen a dramatic increase in positive recall to over 0.9 while maintaining a weighted average for precision, recall and f1-score over 0.8. At this stageAny further adjustments to the weighting would likely result in a lower than acceptable precision for positive results. Our negative recall is concerning and will require further model optimisation."
   ]
  },
  {
   "cell_type": "markdown",
   "id": "84a0b4f5-c8f8-4ddf-b7f6-a578a7d16b53",
   "metadata": {},
   "source": [
    "## ***Analysis of logistic regression parameter removal and optimised weighting (model 5)***"
   ]
  },
  {
   "cell_type": "markdown",
   "id": "84c40790-3a2f-466e-9c10-84fcd75b11a2",
   "metadata": {},
   "source": [
    "We will try changing the default L2 (Ridge regression) regularization penalty to \"none\" in an attempt to improve feature selection. L1 (lasso regression) regularization is not supported when using the default solver \"lbfgs\". We will implement this change because we earlier saw on our heat map, many attributes had individually weak correlations. L2 regularization reduces the impact of these attributes which may have a strong cumulative effect. We will reuse the previous logistic model code, keeping our previously found optimal class_weight and specifiying the penalty as \"none\". "
   ]
  },
  {
   "cell_type": "code",
   "execution_count": 7,
   "id": "5b19a0c1-0bea-4881-ab3f-ab4c9f6f038b",
   "metadata": {},
   "outputs": [
    {
     "name": "stdout",
     "output_type": "stream",
     "text": [
      "Model 5 AUC is: 0.982113213811421\n",
      "              precision    recall  f1-score   support\n",
      "\n",
      "           0       0.90      0.92      0.91       144\n",
      "           1       0.96      0.94      0.95       251\n",
      "\n",
      "    accuracy                           0.94       395\n",
      "   macro avg       0.93      0.93      0.93       395\n",
      "weighted avg       0.94      0.94      0.94       395\n",
      "\n",
      "Training Accuracy: 0.9402823018458197\n",
      "Test Accuracy: 0.9367088607594937\n"
     ]
    }
   ],
   "source": [
    "logistic_model5 = LogisticRegression(class_weight={False: 0.7, True: 1}, penalty=\"none\")\n",
    "scale = StandardScaler()\n",
    "X_train = scale.fit_transform(X_train)\n",
    "X_test = scale.transform(X_test)\n",
    "logistic_model5.fit(X_train, y_train)\n",
    "\n",
    "y_pred_prob_model5 = logistic_model5.predict_proba(X_test)[:, 1]\n",
    "model5_auc = roc_auc_score(y_test, y_pred_prob_model5)\n",
    "print('Model 5 AUC is:', model5_auc)\n",
    "\n",
    "logistic_prediction5 = logistic_model5.predict(X_test) \n",
    "cm = confusion_matrix(y_test, logistic_prediction5) \n",
    "report = classification_report(y_test, logistic_prediction5)\n",
    "print(report)\n",
    "\n",
    "y_train_pred = logistic_model5.predict(X_train)\n",
    "train_accuracy = accuracy_score(y_train, y_train_pred)\n",
    "print(\"Training Accuracy:\", train_accuracy)\n",
    "y_test_pred = logistic_model5.predict(X_test)\n",
    "test_accuracy = accuracy_score(y_test, y_test_pred)\n",
    "print(\"Test Accuracy:\", test_accuracy)\n",
    "\n",
    "y_pred_prob_model5 = logistic_model5.predict_proba(X_test)"
   ]
  },
  {
   "cell_type": "markdown",
   "id": "cbec0c9a-0d04-49a2-8504-d938b719b1ad",
   "metadata": {},
   "source": [
    "It looks like there is a high level of accuracy in the test and training sets suggesting that overfitting is not occuring and that regularization was limiting the model and causing underfitting. This may be due to the size of the dataset. Let's perform a final check using the same ROC and AUC doe as before but with the new logistic model."
   ]
  },
  {
   "cell_type": "markdown",
   "id": "ad0c8381-9bcf-443a-b6e5-edefdab6bf91",
   "metadata": {},
   "source": [
    "## ***Tweaking of weighting after overall strengthening from regularisation removal (model 6)***"
   ]
  },
  {
   "cell_type": "markdown",
   "id": "62a76cfa-4401-4a9d-81bc-f9fdc6d8573a",
   "metadata": {},
   "source": [
    "We are again reusing the code for generating our logistic regression model with no penalty and a slight adjustment in the False class_weight from 0.7 to 0.3 to give it less signficiance in an attempt to improve the selection and thus recall in True results. "
   ]
  },
  {
   "cell_type": "code",
   "execution_count": 8,
   "id": "ab58f438-d80f-427f-b1c2-2e2268ce8646",
   "metadata": {},
   "outputs": [
    {
     "name": "stdout",
     "output_type": "stream",
     "text": [
      "Model 6 AUC is: 0.9844095838866755\n",
      "              precision    recall  f1-score   support\n",
      "\n",
      "           0       0.95      0.86      0.90       144\n",
      "           1       0.92      0.97      0.95       251\n",
      "\n",
      "    accuracy                           0.93       395\n",
      "   macro avg       0.94      0.92      0.92       395\n",
      "weighted avg       0.93      0.93      0.93       395\n",
      "\n",
      "Training Accuracy: 0.9348534201954397\n",
      "Test Accuracy: 0.9316455696202531\n"
     ]
    }
   ],
   "source": [
    "logistic_model6 = LogisticRegression(class_weight={False: 0.3, True: 1}, penalty=\"none\")\n",
    "scale = StandardScaler()\n",
    "X_train = scale.fit_transform(X_train)\n",
    "X_test = scale.transform(X_test)\n",
    "logistic_model6.fit(X_train, y_train)\n",
    "\n",
    "y_pred_prob_model6 = logistic_model6.predict_proba(X_test)[:, 1]\n",
    "model6_auc = roc_auc_score(y_test, y_pred_prob_model6)\n",
    "print('Model 6 AUC is:', model6_auc)\n",
    "\n",
    "logistic_prediction6 = logistic_model6.predict(X_test) \n",
    "cm = confusion_matrix(y_test, logistic_prediction6) \n",
    "report = classification_report(y_test, logistic_prediction6)\n",
    "print(report)\n",
    "\n",
    "y_train_pred = logistic_model6.predict(X_train)\n",
    "train_accuracy = accuracy_score(y_train, y_train_pred)\n",
    "print(\"Training Accuracy:\", train_accuracy)\n",
    "y_test_pred = logistic_model6.predict(X_test)\n",
    "test_accuracy = accuracy_score(y_test, y_test_pred)\n",
    "print(\"Test Accuracy:\", test_accuracy)\n",
    "\n",
    "y_pred_prob_model6 = logistic_model6.predict_proba(X_test)"
   ]
  },
  {
   "cell_type": "markdown",
   "id": "0560fc25-1e8b-4803-b28a-686a09382c78",
   "metadata": {},
   "source": [
    "Further adjusting the class_weight after changing our regularization parameter has allowed for further optimisation in regards to positive recall. A slight decrease in weighted averages has occured but all levels are still strong, still excellent AUC. There has also been a reduction in negative case recall to 0.86 so additional tweaking would push this level outside the acceptable range. A very high rate of positive recall satisfys the goal of this investigation which was to generate a model that minimised false negatives as much as possible. We will proceed with further optimisation attempts"
   ]
  },
  {
   "cell_type": "markdown",
   "id": "697304a6-0c4b-4b53-a5a3-b35e180e153e",
   "metadata": {},
   "source": [
    "## ***Analysis of logistic regression parameter L2 optimisation (GridSearchCV) and optimised weighting (model 7)***"
   ]
  },
  {
   "cell_type": "markdown",
   "id": "c18601fd-72ad-442c-afce-58cdd200b6dc",
   "metadata": {},
   "source": [
    "It is worth considering optimising L2 rather than completely removing it. L2 is adjusted by its weighting parameter 'C'. GridSearchCV can be employed for this. "
   ]
  },
  {
   "cell_type": "code",
   "execution_count": 9,
   "id": "5e66aed0-e315-427d-acec-d31f4da8b6dd",
   "metadata": {},
   "outputs": [
    {
     "name": "stdout",
     "output_type": "stream",
     "text": [
      "{'C': 1000}\n"
     ]
    }
   ],
   "source": [
    "from sklearn.model_selection import GridSearchCV\n",
    "\n",
    "# grid search CV\n",
    "params = {'C': [pow(10, x) for x in range(-6, 4)]}\n",
    "\n",
    "# use all cores to tune logistic regression with C parameter\n",
    "cv = GridSearchCV(param_grid=params, estimator=LogisticRegression(random_state=10),return_train_score=True, cv=10, n_jobs=-1)\n",
    "cv.fit(X_train, y_train)\n",
    "\n",
    "print(cv.best_params_)"
   ]
  },
  {
   "cell_type": "code",
   "execution_count": 10,
   "id": "fd8143f6-9a09-4e8f-8914-06e8ff8e2842",
   "metadata": {},
   "outputs": [
    {
     "name": "stdout",
     "output_type": "stream",
     "text": [
      "Model 7 AUC is: 0.9760402833111995\n",
      "              precision    recall  f1-score   support\n",
      "\n",
      "           0       0.94      0.81      0.87       144\n",
      "           1       0.90      0.97      0.93       251\n",
      "\n",
      "    accuracy                           0.91       395\n",
      "   macro avg       0.92      0.89      0.90       395\n",
      "weighted avg       0.91      0.91      0.91       395\n",
      "\n",
      "Training Accuracy: 0.9142236699239956\n",
      "Test Accuracy: 0.9088607594936708\n"
     ]
    }
   ],
   "source": [
    "logistic_model7 = LogisticRegression(class_weight={False: 0.3, True: 1}, C=1000)\n",
    "scale = StandardScaler()\n",
    "X_train = scale.fit_transform(X_train)\n",
    "X_test = scale.transform(X_test)\n",
    "logistic_model7.fit(X_train, y_train)\n",
    "\n",
    "y_pred_prob_model7 = logistic_model7.predict_proba(X_test)[:, 1]\n",
    "model7_auc = roc_auc_score(y_test, y_pred_prob_model7)\n",
    "print('Model 7 AUC is:', model7_auc)\n",
    "\n",
    "logistic_prediction7 = logistic_model7.predict(X_test) \n",
    "cm = confusion_matrix(y_test, logistic_prediction7) \n",
    "report = classification_report(y_test, logistic_prediction7)\n",
    "print(report)\n",
    "\n",
    "y_train_pred = logistic_model7.predict(X_train)\n",
    "train_accuracy = accuracy_score(y_train, y_train_pred)\n",
    "print(\"Training Accuracy:\", train_accuracy)\n",
    "y_test_pred = logistic_model7.predict(X_test)\n",
    "test_accuracy = accuracy_score(y_test, y_test_pred)\n",
    "print(\"Test Accuracy:\", test_accuracy)\n",
    "\n",
    "y_pred_prob_model7 = logistic_model7.predict_proba(X_test)"
   ]
  },
  {
   "cell_type": "markdown",
   "id": "97acf815-a652-4d3f-b5e2-ac18ba898d22",
   "metadata": {},
   "source": [
    "Attempting to optimise rather than remove the regularisation penalty has resulted in a worse report so we can be confident in our decision. Let's investigate feature selection"
   ]
  },
  {
   "cell_type": "markdown",
   "id": "cae82103-4088-4bed-a537-e0ae14860ce0",
   "metadata": {},
   "source": [
    "## ***Finding optimal parameters with feature selection - Recursive Feature Elimination (RVE) (model 8)***"
   ]
  },
  {
   "cell_type": "markdown",
   "id": "21565d7e-002a-4346-a542-dd2f9ed8d139",
   "metadata": {},
   "source": [
    "We have already found our optimal parameters for weighting and logistic regression regularisation, lets investigate the X categories provided"
   ]
  },
  {
   "cell_type": "code",
   "execution_count": 11,
   "id": "e1fb81f9-7a5d-47b6-b053-dd41ad8098f1",
   "metadata": {},
   "outputs": [
    {
     "name": "stdout",
     "output_type": "stream",
     "text": [
      "Original feature set 8\n",
      "Number of features after elimination 2\n"
     ]
    }
   ],
   "source": [
    "from sklearn.feature_selection import RFECV\n",
    "\n",
    "rfe = RFECV(estimator = LogisticRegression(random_state=10), cv=10)\n",
    "rfe.fit(X_train, y_train) # run the RFECV\n",
    "\n",
    "# comparing how many variables before and after\n",
    "print(\"Original feature set\", X_train.shape[1])\n",
    "print(\"Number of features after elimination\", rfe.n_features_)"
   ]
  },
  {
   "cell_type": "code",
   "execution_count": 12,
   "id": "a1ed5416-6e8d-440d-9428-3beaa8da47a0",
   "metadata": {},
   "outputs": [],
   "source": [
    "X_train_sel = rfe.transform(X_train)\n",
    "X_test_sel = rfe.transform(X_test)"
   ]
  },
  {
   "cell_type": "code",
   "execution_count": 13,
   "id": "d898127d-b855-4c1c-b781-e4bf52ff6714",
   "metadata": {},
   "outputs": [
    {
     "name": "stdout",
     "output_type": "stream",
     "text": [
      "Model 8 AUC is: 0.9857376051350154\n",
      "              precision    recall  f1-score   support\n",
      "\n",
      "           0       0.95      0.84      0.89       144\n",
      "           1       0.91      0.97      0.94       251\n",
      "\n",
      "    accuracy                           0.92       395\n",
      "   macro avg       0.93      0.91      0.92       395\n",
      "weighted avg       0.93      0.92      0.92       395\n",
      "\n",
      "Training Accuracy: 0.9391965255157437\n",
      "Test Accuracy: 0.9240506329113924\n"
     ]
    }
   ],
   "source": [
    "logistic_model8 = LogisticRegression(class_weight={False: 0.3, True: 1}, penalty=\"none\")\n",
    "scale = StandardScaler()\n",
    "X_train = X_train_sel\n",
    "X_test = X_test_sel\n",
    "logistic_model8.fit(X_train, y_train)\n",
    "\n",
    "y_pred_prob_model8 = logistic_model8.predict_proba(X_test)[:, 1]\n",
    "model8_auc = roc_auc_score(y_test, y_pred_prob_model8)\n",
    "print('Model 8 AUC is:', model8_auc)\n",
    "\n",
    "logistic_prediction8 = logistic_model8.predict(X_test) \n",
    "cm = confusion_matrix(y_test, logistic_prediction8) \n",
    "report = classification_report(y_test, logistic_prediction8)\n",
    "print(report)\n",
    "\n",
    "y_train_pred = logistic_model8.predict(X_train)\n",
    "train_accuracy = accuracy_score(y_train, y_train_pred)\n",
    "print(\"Training Accuracy:\", train_accuracy)\n",
    "y_test_pred = logistic_model8.predict(X_test)\n",
    "test_accuracy = accuracy_score(y_test, y_test_pred)\n",
    "print(\"Test Accuracy:\", test_accuracy)\n",
    "\n",
    "y_pred_prob_model8 = logistic_model8.predict_proba(X_test)"
   ]
  },
  {
   "cell_type": "markdown",
   "id": "6fe30fc8-2137-4206-86e0-5fd2a4a1a36b",
   "metadata": {},
   "source": [
    "By cutting our features from 8 to 2, we have achieved our best AUC and maintained good scores in the report. Speed will have also increased however, our negative recall has been lowered as well as the test accuracy. We will retain the 8 features as speed is not a concern at this stage and more confidence is provided in having the additional features for the model. "
   ]
  },
  {
   "cell_type": "markdown",
   "id": "d917229d-74da-4b09-bf9f-28cd49868b9d",
   "metadata": {},
   "source": [
    "**Model 6 has ultimately performed best for our intended scope despite the slightly better accuracy seen in 8**"
   ]
  },
  {
   "cell_type": "markdown",
   "id": "5519a589-c36e-4d4d-b539-94ed131d5f09",
   "metadata": {},
   "source": [
    "## ***Comparison of ROC***"
   ]
  },
  {
   "cell_type": "code",
   "execution_count": 14,
   "id": "8ad49f39-a9a0-4339-8de2-50d369c7613d",
   "metadata": {},
   "outputs": [
    {
     "name": "stdout",
     "output_type": "stream",
     "text": [
      "ROC index on test for `model1`: 0.8862605135015494\n",
      "ROC index on test for `model2`: 0.8976316954404604\n",
      "ROC index on test for `model3`: 0.8852229969012838\n",
      "ROC index on test for `model4`: 0.8922504426737494\n",
      "ROC index on test for `model5`: 0.982113213811421\n",
      "ROC index on test for `model6`: 0.9844095838866755\n",
      "ROC index on test for `model7`: 0.9760402833111995\n",
      "ROC index on test for `model8`: 0.9857376051350154\n"
     ]
    },
    {
     "data": {
      "image/png": "[encoded data removed]",
      "text/plain": [
       "<Figure size 640x480 with 1 Axes>"
      ]
     },
     "metadata": {},
     "output_type": "display_data"
    }
   ],
   "source": [
    "from sklearn.metrics import roc_auc_score\n",
    "\n",
    "roc_index_model1 = roc_auc_score(y_test, y_pred_prob_model1[:, 1])\n",
    "roc_index_model2 = roc_auc_score(y_test, y_pred_prob_model2[:, 1])\n",
    "roc_index_model3 = roc_auc_score(y_test, y_pred_prob_model3[:, 1])\n",
    "roc_index_model4 = roc_auc_score(y_test, y_pred_prob_model4[:, 1])\n",
    "roc_index_model5 = roc_auc_score(y_test, y_pred_prob_model5[:, 1])\n",
    "roc_index_model6 = roc_auc_score(y_test, y_pred_prob_model6[:, 1])\n",
    "roc_index_model7 = roc_auc_score(y_test, y_pred_prob_model7[:, 1])\n",
    "roc_index_model8 = roc_auc_score(y_test, y_pred_prob_model8[:, 1])\n",
    "\n",
    "\n",
    "print(\"ROC index on test for `model1`:\", roc_index_model1)\n",
    "print(\"ROC index on test for `model2`:\", roc_index_model2)\n",
    "print(\"ROC index on test for `model3`:\", roc_index_model3)\n",
    "print(\"ROC index on test for `model4`:\", roc_index_model4)\n",
    "print(\"ROC index on test for `model5`:\", roc_index_model5)\n",
    "print(\"ROC index on test for `model6`:\", roc_index_model6)\n",
    "print(\"ROC index on test for `model7`:\", roc_index_model7)\n",
    "print(\"ROC index on test for `model8`:\", roc_index_model8)\n",
    "\n",
    "\n",
    "fpr_model1, tpr_model1, thresholds_model1 = roc_curve(y_test, y_pred_prob_model1[:,1])\n",
    "fpr_model2, tpr_model2, thresholds_model2 = roc_curve(y_test, y_pred_prob_model2[:,1])\n",
    "fpr_model3, tpr_model3, thresholds_model3 = roc_curve(y_test, y_pred_prob_model3[:,1])\n",
    "fpr_model4, tpr_model4, thresholds_model4 = roc_curve(y_test, y_pred_prob_model4[:,1])\n",
    "fpr_model5, tpr_model5, thresholds_model5 = roc_curve(y_test, y_pred_prob_model5[:,1])\n",
    "fpr_model6, tpr_model6, thresholds_model6 = roc_curve(y_test, y_pred_prob_model6[:,1])\n",
    "fpr_model7, tpr_model7, thresholds_model7 = roc_curve(y_test, y_pred_prob_model7[:,1])\n",
    "fpr_model8, tpr_model8, thresholds_model8 = roc_curve(y_test, y_pred_prob_model8[:,1])\n",
    "\n",
    "\n",
    "import matplotlib.pyplot as plt\n",
    "\n",
    "plt.plot(fpr_model1, tpr_model1, label='ROC Curve for `model 1` {:.3f}'.format(roc_index_model1), color='red', lw=0.5)\n",
    "plt.plot(fpr_model2, tpr_model2, label='ROC Curve for `model 2` {:.3f}'.format(roc_index_model2), color='green', lw=0.5)\n",
    "plt.plot(fpr_model3, tpr_model3, label='ROC Curve for `model 3` {:.3f}'.format(roc_index_model3), color='blue', lw=0.5)\n",
    "plt.plot(fpr_model4, tpr_model4, label='ROC Curve for `model 4` {:.3f}'.format(roc_index_model4), color='yellow', lw=0.5)\n",
    "plt.plot(fpr_model5, tpr_model5, label='ROC Curve for `model 5` {:.3f}'.format(roc_index_model5), color='black', lw=0.5)\n",
    "plt.plot(fpr_model6, tpr_model6, label='ROC Curve for `model 6` {:.3f}'.format(roc_index_model6), color='pink', lw=0.5)\n",
    "plt.plot(fpr_model7, tpr_model7, label='ROC Curve for `model 7` {:.3f}'.format(roc_index_model7), color='brown', lw=0.5)\n",
    "plt.plot(fpr_model8, tpr_model8, label='ROC Curve for `model 8` {:.3f}'.format(roc_index_model8), color='grey', lw=0.5)\n",
    "\n",
    "\n",
    "plt.plot([0, 1], [0, 1], color='navy', lw=0.5, linestyle='--')\n",
    "plt.xlim([0.0, 1.0])\n",
    "plt.ylim([0.0, 1.0])\n",
    "plt.xlabel('False Positive Rate')\n",
    "plt.ylabel('True Positive Rate')\n",
    "plt.title('Receiver operating characteristic example')\n",
    "plt.legend(loc=\"lower right\")\n",
    "plt.show()"
   ]
  },
  {
   "cell_type": "markdown",
   "id": "1875be26-9f80-448c-a73f-c23b11d3d5c9",
   "metadata": {},
   "source": [
    "## ***Confusion matrix***"
   ]
  },
  {
   "cell_type": "code",
   "execution_count": 16,
   "id": "1af86932-75f6-4159-bd21-291753d2f0af",
   "metadata": {},
   "outputs": [
    {
     "data": {
      "application/vnd.plotly.v1+json": {
       "config": {
        "plotlyServerURL": "https://plot.ly"
       },
       "data": [
        {
         "coloraxis": "coloraxis",
         "hovertemplate": "Predicted label: %{x}<br>Actual label: %{y}<br>color: %{z}<extra></extra>",
         "name": "0",
         "type": "heatmap",
         "xaxis": "x",
         "yaxis": "y",
         "z": [
          [
           124,
           20
          ],
          [
           7,
           244
          ]
         ]
        }
       ],
       "layout": {
        "autosize": true,
        "coloraxis": {
         "colorscale": [
          [
           0,
           "#0d0887"
          ],
          [
           0.1111111111111111,
           "#46039f"
          ],
          [
           0.2222222222222222,
           "#7201a8"
          ],
          [
           0.3333333333333333,
           "#9c179e"
          ],
          [
           0.4444444444444444,
           "#bd3786"
          ],
          [
           0.5555555555555556,
           "#d8576b"
          ],
          [
           0.6666666666666666,
           "#ed7953"
          ],
          [
           0.7777777777777778,
           "#fb9f3a"
          ],
          [
           0.8888888888888888,
           "#fdca26"
          ],
          [
           1,
           "#f0f921"
          ]
         ]
        },
        "template": {
         "data": {
          "bar": [
           {
            "error_x": {
             "color": "#2a3f5f"
            },
            "error_y": {
             "color": "#2a3f5f"
            },
            "marker": {
             "line": {
              "color": "#E5ECF6",
              "width": 0.5
             },
             "pattern": {
              "fillmode": "overlay",
              "size": 10,
              "solidity": 0.2
             }
            },
            "type": "bar"
           }
          ],
          "barpolar": [
           {
            "marker": {
             "line": {
              "color": "#E5ECF6",
              "width": 0.5
             },
             "pattern": {
              "fillmode": "overlay",
              "size": 10,
              "solidity": 0.2
             }
            },
            "type": "barpolar"
           }
          ],
          "carpet": [
           {
            "aaxis": {
             "endlinecolor": "#2a3f5f",
             "gridcolor": "white",
             "linecolor": "white",
             "minorgridcolor": "white",
             "startlinecolor": "#2a3f5f"
            },
            "baxis": {
             "endlinecolor": "#2a3f5f",
             "gridcolor": "white",
             "linecolor": "white",
             "minorgridcolor": "white",
             "startlinecolor": "#2a3f5f"
            },
            "type": "carpet"
           }
          ],
          "choropleth": [
           {
            "colorbar": {
             "outlinewidth": 0,
             "ticks": ""
            },
            "type": "choropleth"
           }
          ],
          "contour": [
           {
            "colorbar": {
             "outlinewidth": 0,
             "ticks": ""
            },
            "colorscale": [
             [
              0,
              "#0d0887"
             ],
             [
              0.1111111111111111,
              "#46039f"
             ],
             [
              0.2222222222222222,
              "#7201a8"
             ],
             [
              0.3333333333333333,
              "#9c179e"
             ],
             [
              0.4444444444444444,
              "#bd3786"
             ],
             [
              0.5555555555555556,
              "#d8576b"
             ],
             [
              0.6666666666666666,
              "#ed7953"
             ],
             [
              0.7777777777777778,
              "#fb9f3a"
             ],
             [
              0.8888888888888888,
              "#fdca26"
             ],
             [
              1,
              "#f0f921"
             ]
            ],
            "type": "contour"
           }
          ],
          "contourcarpet": [
           {
            "colorbar": {
             "outlinewidth": 0,
             "ticks": ""
            },
            "type": "contourcarpet"
           }
          ],
          "heatmap": [
           {
            "colorbar": {
             "outlinewidth": 0,
             "ticks": ""
            },
            "colorscale": [
             [
              0,
              "#0d0887"
             ],
             [
              0.1111111111111111,
              "#46039f"
             ],
             [
              0.2222222222222222,
              "#7201a8"
             ],
             [
              0.3333333333333333,
              "#9c179e"
             ],
             [
              0.4444444444444444,
              "#bd3786"
             ],
             [
              0.5555555555555556,
              "#d8576b"
             ],
             [
              0.6666666666666666,
              "#ed7953"
             ],
             [
              0.7777777777777778,
              "#fb9f3a"
             ],
             [
              0.8888888888888888,
              "#fdca26"
             ],
             [
              1,
              "#f0f921"
             ]
            ],
            "type": "heatmap"
           }
          ],
          "heatmapgl": [
           {
            "colorbar": {
             "outlinewidth": 0,
             "ticks": ""
            },
            "colorscale": [
             [
              0,
              "#0d0887"
             ],
             [
              0.1111111111111111,
              "#46039f"
             ],
             [
              0.2222222222222222,
              "#7201a8"
             ],
             [
              0.3333333333333333,
              "#9c179e"
             ],
             [
              0.4444444444444444,
              "#bd3786"
             ],
             [
              0.5555555555555556,
              "#d8576b"
             ],
             [
              0.6666666666666666,
              "#ed7953"
             ],
             [
              0.7777777777777778,
              "#fb9f3a"
             ],
             [
              0.8888888888888888,
              "#fdca26"
             ],
             [
              1,
              "#f0f921"
             ]
            ],
            "type": "heatmapgl"
           }
          ],
          "histogram": [
           {
            "marker": {
             "pattern": {
              "fillmode": "overlay",
              "size": 10,
              "solidity": 0.2
             }
            },
            "type": "histogram"
           }
          ],
          "histogram2d": [
           {
            "colorbar": {
             "outlinewidth": 0,
             "ticks": ""
            },
            "colorscale": [
             [
              0,
              "#0d0887"
             ],
             [
              0.1111111111111111,
              "#46039f"
             ],
             [
              0.2222222222222222,
              "#7201a8"
             ],
             [
              0.3333333333333333,
              "#9c179e"
             ],
             [
              0.4444444444444444,
              "#bd3786"
             ],
             [
              0.5555555555555556,
              "#d8576b"
             ],
             [
              0.6666666666666666,
              "#ed7953"
             ],
             [
              0.7777777777777778,
              "#fb9f3a"
             ],
             [
              0.8888888888888888,
              "#fdca26"
             ],
             [
              1,
              "#f0f921"
             ]
            ],
            "type": "histogram2d"
           }
          ],
          "histogram2dcontour": [
           {
            "colorbar": {
             "outlinewidth": 0,
             "ticks": ""
            },
            "colorscale": [
             [
              0,
              "#0d0887"
             ],
             [
              0.1111111111111111,
              "#46039f"
             ],
             [
              0.2222222222222222,
              "#7201a8"
             ],
             [
              0.3333333333333333,
              "#9c179e"
             ],
             [
              0.4444444444444444,
              "#bd3786"
             ],
             [
              0.5555555555555556,
              "#d8576b"
             ],
             [
              0.6666666666666666,
              "#ed7953"
             ],
             [
              0.7777777777777778,
              "#fb9f3a"
             ],
             [
              0.8888888888888888,
              "#fdca26"
             ],
             [
              1,
              "#f0f921"
             ]
            ],
            "type": "histogram2dcontour"
           }
          ],
          "mesh3d": [
           {
            "colorbar": {
             "outlinewidth": 0,
             "ticks": ""
            },
            "type": "mesh3d"
           }
          ],
          "parcoords": [
           {
            "line": {
             "colorbar": {
              "outlinewidth": 0,
              "ticks": ""
             }
            },
            "type": "parcoords"
           }
          ],
          "pie": [
           {
            "automargin": true,
            "type": "pie"
           }
          ],
          "scatter": [
           {
            "fillpattern": {
             "fillmode": "overlay",
             "size": 10,
             "solidity": 0.2
            },
            "type": "scatter"
           }
          ],
          "scatter3d": [
           {
            "line": {
             "colorbar": {
              "outlinewidth": 0,
              "ticks": ""
             }
            },
            "marker": {
             "colorbar": {
              "outlinewidth": 0,
              "ticks": ""
             }
            },
            "type": "scatter3d"
           }
          ],
          "scattercarpet": [
           {
            "marker": {
             "colorbar": {
              "outlinewidth": 0,
              "ticks": ""
             }
            },
            "type": "scattercarpet"
           }
          ],
          "scattergeo": [
           {
            "marker": {
             "colorbar": {
              "outlinewidth": 0,
              "ticks": ""
             }
            },
            "type": "scattergeo"
           }
          ],
          "scattergl": [
           {
            "marker": {
             "colorbar": {
              "outlinewidth": 0,
              "ticks": ""
             }
            },
            "type": "scattergl"
           }
          ],
          "scattermapbox": [
           {
            "marker": {
             "colorbar": {
              "outlinewidth": 0,
              "ticks": ""
             }
            },
            "type": "scattermapbox"
           }
          ],
          "scatterpolar": [
           {
            "marker": {
             "colorbar": {
              "outlinewidth": 0,
              "ticks": ""
             }
            },
            "type": "scatterpolar"
           }
          ],
          "scatterpolargl": [
           {
            "marker": {
             "colorbar": {
              "outlinewidth": 0,
              "ticks": ""
             }
            },
            "type": "scatterpolargl"
           }
          ],
          "scatterternary": [
           {
            "marker": {
             "colorbar": {
              "outlinewidth": 0,
              "ticks": ""
             }
            },
            "type": "scatterternary"
           }
          ],
          "surface": [
           {
            "colorbar": {
             "outlinewidth": 0,
             "ticks": ""
            },
            "colorscale": [
             [
              0,
              "#0d0887"
             ],
             [
              0.1111111111111111,
              "#46039f"
             ],
             [
              0.2222222222222222,
              "#7201a8"
             ],
             [
              0.3333333333333333,
              "#9c179e"
             ],
             [
              0.4444444444444444,
              "#bd3786"
             ],
             [
              0.5555555555555556,
              "#d8576b"
             ],
             [
              0.6666666666666666,
              "#ed7953"
             ],
             [
              0.7777777777777778,
              "#fb9f3a"
             ],
             [
              0.8888888888888888,
              "#fdca26"
             ],
             [
              1,
              "#f0f921"
             ]
            ],
            "type": "surface"
           }
          ],
          "table": [
           {
            "cells": {
             "fill": {
              "color": "#EBF0F8"
             },
             "line": {
              "color": "white"
             }
            },
            "header": {
             "fill": {
              "color": "#C8D4E3"
             },
             "line": {
              "color": "white"
             }
            },
            "type": "table"
           }
          ]
         },
         "layout": {
          "annotationdefaults": {
           "arrowcolor": "#2a3f5f",
           "arrowhead": 0,
           "arrowwidth": 1
          },
          "autotypenumbers": "strict",
          "coloraxis": {
           "colorbar": {
            "outlinewidth": 0,
            "ticks": ""
           }
          },
          "colorscale": {
           "diverging": [
            [
             0,
             "#8e0152"
            ],
            [
             0.1,
             "#c51b7d"
            ],
            [
             0.2,
             "#de77ae"
            ],
            [
             0.3,
             "#f1b6da"
            ],
            [
             0.4,
             "#fde0ef"
            ],
            [
             0.5,
             "#f7f7f7"
            ],
            [
             0.6,
             "#e6f5d0"
            ],
            [
             0.7,
             "#b8e186"
            ],
            [
             0.8,
             "#7fbc41"
            ],
            [
             0.9,
             "#4d9221"
            ],
            [
             1,
             "#276419"
            ]
           ],
           "sequential": [
            [
             0,
             "#0d0887"
            ],
            [
             0.1111111111111111,
             "#46039f"
            ],
            [
             0.2222222222222222,
             "#7201a8"
            ],
            [
             0.3333333333333333,
             "#9c179e"
            ],
            [
             0.4444444444444444,
             "#bd3786"
            ],
            [
             0.5555555555555556,
             "#d8576b"
            ],
            [
             0.6666666666666666,
             "#ed7953"
            ],
            [
             0.7777777777777778,
             "#fb9f3a"
            ],
            [
             0.8888888888888888,
             "#fdca26"
            ],
            [
             1,
             "#f0f921"
            ]
           ],
           "sequentialminus": [
            [
             0,
             "#0d0887"
            ],
            [
             0.1111111111111111,
             "#46039f"
            ],
            [
             0.2222222222222222,
             "#7201a8"
            ],
            [
             0.3333333333333333,
             "#9c179e"
            ],
            [
             0.4444444444444444,
             "#bd3786"
            ],
            [
             0.5555555555555556,
             "#d8576b"
            ],
            [
             0.6666666666666666,
             "#ed7953"
            ],
            [
             0.7777777777777778,
             "#fb9f3a"
            ],
            [
             0.8888888888888888,
             "#fdca26"
            ],
            [
             1,
             "#f0f921"
            ]
           ]
          },
          "colorway": [
           "#636efa",
           "#EF553B",
           "#00cc96",
           "#ab63fa",
           "#FFA15A",
           "#19d3f3",
           "#FF6692",
           "#B6E880",
           "#FF97FF",
           "#FECB52"
          ],
          "font": {
           "color": "#2a3f5f"
          },
          "geo": {
           "bgcolor": "white",
           "lakecolor": "white",
           "landcolor": "#E5ECF6",
           "showlakes": true,
           "showland": true,
           "subunitcolor": "white"
          },
          "hoverlabel": {
           "align": "left"
          },
          "hovermode": "closest",
          "mapbox": {
           "style": "light"
          },
          "paper_bgcolor": "white",
          "plot_bgcolor": "#E5ECF6",
          "polar": {
           "angularaxis": {
            "gridcolor": "white",
            "linecolor": "white",
            "ticks": ""
           },
           "bgcolor": "#E5ECF6",
           "radialaxis": {
            "gridcolor": "white",
            "linecolor": "white",
            "ticks": ""
           }
          },
          "scene": {
           "xaxis": {
            "backgroundcolor": "#E5ECF6",
            "gridcolor": "white",
            "gridwidth": 2,
            "linecolor": "white",
            "showbackground": true,
            "ticks": "",
            "zerolinecolor": "white"
           },
           "yaxis": {
            "backgroundcolor": "#E5ECF6",
            "gridcolor": "white",
            "gridwidth": 2,
            "linecolor": "white",
            "showbackground": true,
            "ticks": "",
            "zerolinecolor": "white"
           },
           "zaxis": {
            "backgroundcolor": "#E5ECF6",
            "gridcolor": "white",
            "gridwidth": 2,
            "linecolor": "white",
            "showbackground": true,
            "ticks": "",
            "zerolinecolor": "white"
           }
          },
          "shapedefaults": {
           "line": {
            "color": "#2a3f5f"
           }
          },
          "ternary": {
           "aaxis": {
            "gridcolor": "white",
            "linecolor": "white",
            "ticks": ""
           },
           "baxis": {
            "gridcolor": "white",
            "linecolor": "white",
            "ticks": ""
           },
           "bgcolor": "#E5ECF6",
           "caxis": {
            "gridcolor": "white",
            "linecolor": "white",
            "ticks": ""
           }
          },
          "title": {
           "x": 0.05
          },
          "xaxis": {
           "automargin": true,
           "gridcolor": "white",
           "linecolor": "white",
           "ticks": "",
           "title": {
            "standoff": 15
           },
           "zerolinecolor": "white",
           "zerolinewidth": 2
          },
          "yaxis": {
           "automargin": true,
           "gridcolor": "white",
           "linecolor": "white",
           "ticks": "",
           "title": {
            "standoff": 15
           },
           "zerolinecolor": "white",
           "zerolinewidth": 2
          }
         }
        },
        "title": {
         "text": "model 6"
        },
        "xaxis": {
         "anchor": "y",
         "autorange": true,
         "constrain": "domain",
         "domain": [
          0.4,
          0.6
         ],
         "range": [
          -0.5,
          1.5
         ],
         "scaleanchor": "y",
         "title": {
          "text": "Predicted label"
         }
        },
        "yaxis": {
         "anchor": "x",
         "autorange": true,
         "constrain": "domain",
         "domain": [
          0,
          1
         ],
         "range": [
          1.5,
          -0.5
         ],
         "title": {
          "text": "Actual label"
         }
        }
       }
      },
      "image/png": "[encoded data removed]",
      "text/html": [
       "<div>                            <div id=\"4926616f-8e62-4382-9b64-05fb176af189\" class=\"plotly-graph-div\" style=\"height:525px; width:100%;\"></div>            <script type=\"text/javascript\">                require([\"plotly\"], function(Plotly) {                    window.PLOTLYENV=window.PLOTLYENV || {};                                    if (document.getElementById(\"4926616f-8e62-4382-9b64-05fb176af189\")) {                    Plotly.newPlot(                        \"4926616f-8e62-4382-9b64-05fb176af189\",                        [{\"coloraxis\":\"coloraxis\",\"name\":\"0\",\"z\":[[124,20],[7,244]],\"type\":\"heatmap\",\"xaxis\":\"x\",\"yaxis\":\"y\",\"hovertemplate\":\"Predicted label: %{x}<br>Actual label: %{y}<br>color: %{z}<extra></extra>\"}],                        {\"template\":{\"data\":{\"histogram2dcontour\":[{\"type\":\"histogram2dcontour\",\"colorbar\":{\"outlinewidth\":0,\"ticks\":\"\"},\"colorscale\":[[0.0,\"#0d0887\"],[0.1111111111111111,\"#46039f\"],[0.2222222222222222,\"#7201a8\"],[0.3333333333333333,\"#9c179e\"],[0.4444444444444444,\"#bd3786\"],[0.5555555555555556,\"#d8576b\"],[0.6666666666666666,\"#ed7953\"],[0.7777777777777778,\"#fb9f3a\"],[0.8888888888888888,\"#fdca26\"],[1.0,\"#f0f921\"]]}],\"choropleth\":[{\"type\":\"choropleth\",\"colorbar\":{\"outlinewidth\":0,\"ticks\":\"\"}}],\"histogram2d\":[{\"type\":\"histogram2d\",\"colorbar\":{\"outlinewidth\":0,\"ticks\":\"\"},\"colorscale\":[[0.0,\"#0d0887\"],[0.1111111111111111,\"#46039f\"],[0.2222222222222222,\"#7201a8\"],[0.3333333333333333,\"#9c179e\"],[0.4444444444444444,\"#bd3786\"],[0.5555555555555556,\"#d8576b\"],[0.6666666666666666,\"#ed7953\"],[0.7777777777777778,\"#fb9f3a\"],[0.8888888888888888,\"#fdca26\"],[1.0,\"#f0f921\"]]}],\"heatmap\":[{\"type\":\"heatmap\",\"colorbar\":{\"outlinewidth\":0,\"ticks\":\"\"},\"colorscale\":[[0.0,\"#0d0887\"],[0.1111111111111111,\"#46039f\"],[0.2222222222222222,\"#7201a8\"],[0.3333333333333333,\"#9c179e\"],[0.4444444444444444,\"#bd3786\"],[0.5555555555555556,\"#d8576b\"],[0.6666666666666666,\"#ed7953\"],[0.7777777777777778,\"#fb9f3a\"],[0.8888888888888888,\"#fdca26\"],[1.0,\"#f0f921\"]]}],\"heatmapgl\":[{\"type\":\"heatmapgl\",\"colorbar\":{\"outlinewidth\":0,\"ticks\":\"\"},\"colorscale\":[[0.0,\"#0d0887\"],[0.1111111111111111,\"#46039f\"],[0.2222222222222222,\"#7201a8\"],[0.3333333333333333,\"#9c179e\"],[0.4444444444444444,\"#bd3786\"],[0.5555555555555556,\"#d8576b\"],[0.6666666666666666,\"#ed7953\"],[0.7777777777777778,\"#fb9f3a\"],[0.8888888888888888,\"#fdca26\"],[1.0,\"#f0f921\"]]}],\"contourcarpet\":[{\"type\":\"contourcarpet\",\"colorbar\":{\"outlinewidth\":0,\"ticks\":\"\"}}],\"contour\":[{\"type\":\"contour\",\"colorbar\":{\"outlinewidth\":0,\"ticks\":\"\"},\"colorscale\":[[0.0,\"#0d0887\"],[0.1111111111111111,\"#46039f\"],[0.2222222222222222,\"#7201a8\"],[0.3333333333333333,\"#9c179e\"],[0.4444444444444444,\"#bd3786\"],[0.5555555555555556,\"#d8576b\"],[0.6666666666666666,\"#ed7953\"],[0.7777777777777778,\"#fb9f3a\"],[0.8888888888888888,\"#fdca26\"],[1.0,\"#f0f921\"]]}],\"surface\":[{\"type\":\"surface\",\"colorbar\":{\"outlinewidth\":0,\"ticks\":\"\"},\"colorscale\":[[0.0,\"#0d0887\"],[0.1111111111111111,\"#46039f\"],[0.2222222222222222,\"#7201a8\"],[0.3333333333333333,\"#9c179e\"],[0.4444444444444444,\"#bd3786\"],[0.5555555555555556,\"#d8576b\"],[0.6666666666666666,\"#ed7953\"],[0.7777777777777778,\"#fb9f3a\"],[0.8888888888888888,\"#fdca26\"],[1.0,\"#f0f921\"]]}],\"mesh3d\":[{\"type\":\"mesh3d\",\"colorbar\":{\"outlinewidth\":0,\"ticks\":\"\"}}],\"scatter\":[{\"fillpattern\":{\"fillmode\":\"overlay\",\"size\":10,\"solidity\":0.2},\"type\":\"scatter\"}],\"parcoords\":[{\"type\":\"parcoords\",\"line\":{\"colorbar\":{\"outlinewidth\":0,\"ticks\":\"\"}}}],\"scatterpolargl\":[{\"type\":\"scatterpolargl\",\"marker\":{\"colorbar\":{\"outlinewidth\":0,\"ticks\":\"\"}}}],\"bar\":[{\"error_x\":{\"color\":\"#2a3f5f\"},\"error_y\":{\"color\":\"#2a3f5f\"},\"marker\":{\"line\":{\"color\":\"#E5ECF6\",\"width\":0.5},\"pattern\":{\"fillmode\":\"overlay\",\"size\":10,\"solidity\":0.2}},\"type\":\"bar\"}],\"scattergeo\":[{\"type\":\"scattergeo\",\"marker\":{\"colorbar\":{\"outlinewidth\":0,\"ticks\":\"\"}}}],\"scatterpolar\":[{\"type\":\"scatterpolar\",\"marker\":{\"colorbar\":{\"outlinewidth\":0,\"ticks\":\"\"}}}],\"histogram\":[{\"marker\":{\"pattern\":{\"fillmode\":\"overlay\",\"size\":10,\"solidity\":0.2}},\"type\":\"histogram\"}],\"scattergl\":[{\"type\":\"scattergl\",\"marker\":{\"colorbar\":{\"outlinewidth\":0,\"ticks\":\"\"}}}],\"scatter3d\":[{\"type\":\"scatter3d\",\"line\":{\"colorbar\":{\"outlinewidth\":0,\"ticks\":\"\"}},\"marker\":{\"colorbar\":{\"outlinewidth\":0,\"ticks\":\"\"}}}],\"scattermapbox\":[{\"type\":\"scattermapbox\",\"marker\":{\"colorbar\":{\"outlinewidth\":0,\"ticks\":\"\"}}}],\"scatterternary\":[{\"type\":\"scatterternary\",\"marker\":{\"colorbar\":{\"outlinewidth\":0,\"ticks\":\"\"}}}],\"scattercarpet\":[{\"type\":\"scattercarpet\",\"marker\":{\"colorbar\":{\"outlinewidth\":0,\"ticks\":\"\"}}}],\"carpet\":[{\"aaxis\":{\"endlinecolor\":\"#2a3f5f\",\"gridcolor\":\"white\",\"linecolor\":\"white\",\"minorgridcolor\":\"white\",\"startlinecolor\":\"#2a3f5f\"},\"baxis\":{\"endlinecolor\":\"#2a3f5f\",\"gridcolor\":\"white\",\"linecolor\":\"white\",\"minorgridcolor\":\"white\",\"startlinecolor\":\"#2a3f5f\"},\"type\":\"carpet\"}],\"table\":[{\"cells\":{\"fill\":{\"color\":\"#EBF0F8\"},\"line\":{\"color\":\"white\"}},\"header\":{\"fill\":{\"color\":\"#C8D4E3\"},\"line\":{\"color\":\"white\"}},\"type\":\"table\"}],\"barpolar\":[{\"marker\":{\"line\":{\"color\":\"#E5ECF6\",\"width\":0.5},\"pattern\":{\"fillmode\":\"overlay\",\"size\":10,\"solidity\":0.2}},\"type\":\"barpolar\"}],\"pie\":[{\"automargin\":true,\"type\":\"pie\"}]},\"layout\":{\"autotypenumbers\":\"strict\",\"colorway\":[\"#636efa\",\"#EF553B\",\"#00cc96\",\"#ab63fa\",\"#FFA15A\",\"#19d3f3\",\"#FF6692\",\"#B6E880\",\"#FF97FF\",\"#FECB52\"],\"font\":{\"color\":\"#2a3f5f\"},\"hovermode\":\"closest\",\"hoverlabel\":{\"align\":\"left\"},\"paper_bgcolor\":\"white\",\"plot_bgcolor\":\"#E5ECF6\",\"polar\":{\"bgcolor\":\"#E5ECF6\",\"angularaxis\":{\"gridcolor\":\"white\",\"linecolor\":\"white\",\"ticks\":\"\"},\"radialaxis\":{\"gridcolor\":\"white\",\"linecolor\":\"white\",\"ticks\":\"\"}},\"ternary\":{\"bgcolor\":\"#E5ECF6\",\"aaxis\":{\"gridcolor\":\"white\",\"linecolor\":\"white\",\"ticks\":\"\"},\"baxis\":{\"gridcolor\":\"white\",\"linecolor\":\"white\",\"ticks\":\"\"},\"caxis\":{\"gridcolor\":\"white\",\"linecolor\":\"white\",\"ticks\":\"\"}},\"coloraxis\":{\"colorbar\":{\"outlinewidth\":0,\"ticks\":\"\"}},\"colorscale\":{\"sequential\":[[0.0,\"#0d0887\"],[0.1111111111111111,\"#46039f\"],[0.2222222222222222,\"#7201a8\"],[0.3333333333333333,\"#9c179e\"],[0.4444444444444444,\"#bd3786\"],[0.5555555555555556,\"#d8576b\"],[0.6666666666666666,\"#ed7953\"],[0.7777777777777778,\"#fb9f3a\"],[0.8888888888888888,\"#fdca26\"],[1.0,\"#f0f921\"]],\"sequentialminus\":[[0.0,\"#0d0887\"],[0.1111111111111111,\"#46039f\"],[0.2222222222222222,\"#7201a8\"],[0.3333333333333333,\"#9c179e\"],[0.4444444444444444,\"#bd3786\"],[0.5555555555555556,\"#d8576b\"],[0.6666666666666666,\"#ed7953\"],[0.7777777777777778,\"#fb9f3a\"],[0.8888888888888888,\"#fdca26\"],[1.0,\"#f0f921\"]],\"diverging\":[[0,\"#8e0152\"],[0.1,\"#c51b7d\"],[0.2,\"#de77ae\"],[0.3,\"#f1b6da\"],[0.4,\"#fde0ef\"],[0.5,\"#f7f7f7\"],[0.6,\"#e6f5d0\"],[0.7,\"#b8e186\"],[0.8,\"#7fbc41\"],[0.9,\"#4d9221\"],[1,\"#276419\"]]},\"xaxis\":{\"gridcolor\":\"white\",\"linecolor\":\"white\",\"ticks\":\"\",\"title\":{\"standoff\":15},\"zerolinecolor\":\"white\",\"automargin\":true,\"zerolinewidth\":2},\"yaxis\":{\"gridcolor\":\"white\",\"linecolor\":\"white\",\"ticks\":\"\",\"title\":{\"standoff\":15},\"zerolinecolor\":\"white\",\"automargin\":true,\"zerolinewidth\":2},\"scene\":{\"xaxis\":{\"backgroundcolor\":\"#E5ECF6\",\"gridcolor\":\"white\",\"linecolor\":\"white\",\"showbackground\":true,\"ticks\":\"\",\"zerolinecolor\":\"white\",\"gridwidth\":2},\"yaxis\":{\"backgroundcolor\":\"#E5ECF6\",\"gridcolor\":\"white\",\"linecolor\":\"white\",\"showbackground\":true,\"ticks\":\"\",\"zerolinecolor\":\"white\",\"gridwidth\":2},\"zaxis\":{\"backgroundcolor\":\"#E5ECF6\",\"gridcolor\":\"white\",\"linecolor\":\"white\",\"showbackground\":true,\"ticks\":\"\",\"zerolinecolor\":\"white\",\"gridwidth\":2}},\"shapedefaults\":{\"line\":{\"color\":\"#2a3f5f\"}},\"annotationdefaults\":{\"arrowcolor\":\"#2a3f5f\",\"arrowhead\":0,\"arrowwidth\":1},\"geo\":{\"bgcolor\":\"white\",\"landcolor\":\"#E5ECF6\",\"subunitcolor\":\"white\",\"showland\":true,\"showlakes\":true,\"lakecolor\":\"white\"},\"title\":{\"x\":0.05},\"mapbox\":{\"style\":\"light\"}}},\"xaxis\":{\"anchor\":\"y\",\"domain\":[0.0,1.0],\"scaleanchor\":\"y\",\"constrain\":\"domain\",\"title\":{\"text\":\"Predicted label\"}},\"yaxis\":{\"anchor\":\"x\",\"domain\":[0.0,1.0],\"autorange\":\"reversed\",\"constrain\":\"domain\",\"title\":{\"text\":\"Actual label\"}},\"coloraxis\":{\"colorscale\":[[0.0,\"#0d0887\"],[0.1111111111111111,\"#46039f\"],[0.2222222222222222,\"#7201a8\"],[0.3333333333333333,\"#9c179e\"],[0.4444444444444444,\"#bd3786\"],[0.5555555555555556,\"#d8576b\"],[0.6666666666666666,\"#ed7953\"],[0.7777777777777778,\"#fb9f3a\"],[0.8888888888888888,\"#fdca26\"],[1.0,\"#f0f921\"]]},\"title\":{\"text\":\"model 6\"}},                        {\"responsive\": true}                    ).then(function(){\n",
       "                            \n",
       "var gd = document.getElementById('4926616f-8e62-4382-9b64-05fb176af189');\n",
       "var x = new MutationObserver(function (mutations, observer) {{\n",
       "        var display = window.getComputedStyle(gd).display;\n",
       "        if (!display || display === 'none') {{\n",
       "            console.log([gd, 'removed!']);\n",
       "            Plotly.purge(gd);\n",
       "            observer.disconnect();\n",
       "        }}\n",
       "}});\n",
       "\n",
       "// Listen for the removal of the full notebook cells\n",
       "var notebookContainer = gd.closest('#notebook-container');\n",
       "if (notebookContainer) {{\n",
       "    x.observe(notebookContainer, {childList: true});\n",
       "}}\n",
       "\n",
       "// Listen for the clearing of the current output cell\n",
       "var outputEl = gd.closest('.output');\n",
       "if (outputEl) {{\n",
       "    x.observe(outputEl, {childList: true});\n",
       "}}\n",
       "\n",
       "                        })                };                });            </script>        </div>"
      ]
     },
     "metadata": {},
     "output_type": "display_data"
    }
   ],
   "source": [
    "cm6 = confusion_matrix(y_test, logistic_prediction6)\n",
    "\n",
    "cm_fig6 = px.imshow(cm6, labels={'x': 'Predicted label', 'y': 'Actual label'}, title=\"model 6\")\n",
    "\n",
    "cm_fig6.show()"
   ]
  },
  {
   "cell_type": "markdown",
   "id": "0bb0e0d8-e5d9-46d7-958c-733a3e583c1c",
   "metadata": {
    "jp-MarkdownHeadingCollapsed": true,
    "tags": []
   },
   "source": [
    "## INSIGHTS\n",
    "\n",
    "The goal of creating a machine learning model that can accurately predict a heart attack instance with minimisation of false negatives based on the dataset has been achieved but questions remain about its practical use. The context and ethical considerations of this task have been considered throughout the stages of analysis. First, the data itself raised problems regarding its quality and ethical characteristics. There is much we don’t know about the dataset, namely how and why it was collected and by who. Assumptions had to be made regarding patient consent, sampling and ethnic/regional considerations in the application of the data to an Australian context. For the purposes of this task a generalised model was implemented but it was demonstrated that proportional gender imbalances in the dataset could limit the practical application of the model generated. This raises ethical questions about achieving fairness at the cost of accuracy and vice versa. It is possible that the collectors purposely balanced the genders in collecting data in the goal of fairness, but in turn created a less accurate portrayal of heart attack instances in the male population. In the case of Troponin levels, which saw a mean increase of 40% in males, its weighting in predicting a heart attack would have been reduced due to a roughly equal number of females who have generally lower levels. Applying this model to a male population could therefore lead to a false negative despite elevated Troponin which was shown in the heat map to have a correlation. Additionally there was a slight bias towards positive results which may be reflective in an application of the model to patients presenting with heart-related complaints, but would be less suited for a general hospital application. \n",
    "\n",
    "The context in which a model such as this should be used is highly specific and may not be repeatable. Hospital practices vary between geographic regions and what may be a suitable model for Erbil in Iraq, may not be so relevant for an Australian hospital setting. This is not to say that the model does not provide value, just that the context must be heavily scrutinised. It would need to be employed as an additional tool for physicians to draw their attention to potential risk cases, not as a tool for sole determination of treatment access or physician care related to heart attacks. Pre-existing and technical bias could be an issue in the application of this algorithm. Only one model was implemented in this investigation and only with those 8 categories of data available. Further investigation would need to be performed with other datasets and variables that may encapsulate risk factors not considered by the data available here. \n",
    "\n",
    "For the purpose of this task, minimisation of false negatives was placed as the most important factor, which is suitable given the scenario of a high-risk medical diagnosis. However, what levels are deemed as acceptable for other aspects of the model is highly subjective. To generate a well-performing model, risks arise of ignoring the practical realities and limitations of the data. Care and testing were undertaken to ensure overfitting was not present and ultimately, a very well performing model for the data was generated, at least on paper. Precision of over 90% for both positive and negative results is theoretically excellent, as is a positive recall of 97%. This high positive recall was pursued at the cost of negative recall which ended up at 86%. Few fields highlight the human cost of these figures like the medical field, particularly in a context such as this. It is generally accepted that a higher rate of false positives is acceptable. Although the implications are significant, unnecessary tests and treatment is considered better than a false negative where a patient goes untreated which may ultimately be fatal. There is of course a discourse on the extent to which these are acceptable and pre-existing stakeholder bias may play a role as well such as in societies with privatised healthcare where there is an incentive to treat, even if it may not be entirely necessary. It is simple to say for example, that 80% is an acceptable baseline, but a 1% change in recall, when applied across a large population, could lead to tens of thousands of cases being incorrectly identified. Although the levels in this model are strong, the choice in adjusting model parameters to achieve ‘more desirable’ assessment levels can not be taken lightly. Although this investigation has produced a well-performing model, it has primarily served to highlight the importance and span of ethical considerations in machine learning models and in the broader field of data science. "
   ]
  }
 ],
 "metadata": {
  "kernelspec": {
   "display_name": "Python 3 (ipykernel)",
   "language": "python",
   "name": "python3"
  },
  "language_info": {
   "codemirror_mode": {
    "name": "ipython",
    "version": 3
   },
   "file_extension": ".py",
   "mimetype": "text/x-python",
   "name": "python",
   "nbconvert_exporter": "python",
   "pygments_lexer": "ipython3",
   "version": "3.9.16"
  }
 },
 "nbformat": 4,
 "nbformat_minor": 5
}
